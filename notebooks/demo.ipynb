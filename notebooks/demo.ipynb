{
 "cells": [
  {
   "cell_type": "markdown",
   "metadata": {},
   "source": [
    "# Heirarchical Attention Network for text classification"
   ]
  },
  {
   "cell_type": "code",
   "execution_count": 1,
   "metadata": {},
   "outputs": [],
   "source": [
    "## Uncomment command below to kill current job:\n",
    "#!neuro kill $(hostname)"
   ]
  },
  {
   "cell_type": "markdown",
   "metadata": {},
   "source": [
    "Our recipe is based on highly cited paper\n",
    "[Hierarchical Attention Networks for Document Classification](https://arxiv.org/abs/1608.07775) (Z. Yang et al.), \n",
    "published in 2017. We classify the IMDB's reviews as positive and negative\n",
    "(25k reviews for train and the same number for test). The proposed neural network architecture takes two steps:\n",
    "1. It encodes sentences. The attention mechanism predicts the importance for each word in the final embedding of a sentence.\n",
    "2. It encodes texts. The attention mechanism predicts the importance for each sentence in the final embedding of a text.\n",
    "\n",
    "This architecture is exciting because we can make an illustration to understand what words and sentences were\n",
    "important for prediction. You can find more information in the original article."
   ]
  },
  {
   "cell_type": "code",
   "execution_count": 2,
   "metadata": {
    "pycharm": {
     "name": "#%%\n"
    }
   },
   "outputs": [],
   "source": [
    "%load_ext autoreload\n",
    "%autoreload 2\n",
    "\n",
    "import sys\n",
    "sys.path.append(\"..\")\n",
    "\n",
    "from src.notebooks_utils import display_predict\n",
    "from src.dataset import get_test_dataset, collate_docs, ImdbReviewsDataset\n",
    "from src.model import HAN\n",
    "from src.const import RESULT_DIR"
   ]
  },
  {
   "cell_type": "markdown",
   "metadata": {},
   "source": [
    "### Load IMDB reviews dataset"
   ]
  },
  {
   "cell_type": "code",
   "execution_count": 3,
   "metadata": {},
   "outputs": [
    {
     "name": "stdout",
     "output_type": "stream",
     "text": [
      "Downloading dataset to ../data\n",
      "--2020-06-01 12:46:07--  http://data.neu.ro/aclImdb.zip\n",
      "Resolving data.neu.ro (data.neu.ro)... 52.216.28.51\n",
      "Connecting to data.neu.ro (data.neu.ro)|52.216.28.51|:80... connected.\n",
      "HTTP request sent, awaiting response... 200 OK\n",
      "Length: 44329613 (42M) [application/zip]\n",
      "Saving to: ‘/tmp/aclImdb.zip’\n",
      "\n",
      "/tmp/aclImdb.zip    100%[===================>]  42.28M  41.7MB/s    in 1.0s    \n",
      "\n",
      "2020-06-01 12:46:08 (41.7 MB/s) - ‘/tmp/aclImdb.zip’ saved [44329613/44329613]\n",
      "\n",
      "Unpacking...\n",
      "Finished\n"
     ]
    }
   ],
   "source": [
    "!sh ../src/download_data.sh ../data"
   ]
  },
  {
   "cell_type": "code",
   "execution_count": 4,
   "metadata": {},
   "outputs": [
    {
     "name": "stdout",
     "output_type": "stream",
     "text": [
      "Dataset loading from ../data/aclImdb/test.\n"
     ]
    },
    {
     "data": {
      "application/vnd.jupyter.widget-view+json": {
       "model_id": "2d6053f99eed4d62b7c4c14a23f5b408",
       "version_major": 2,
       "version_minor": 0
      },
      "text/plain": [
       "HBox(children=(FloatProgress(value=0.0, max=25000.0), HTML(value='')))"
      ]
     },
     "metadata": {},
     "output_type": "display_data"
    },
    {
     "name": "stdout",
     "output_type": "stream",
     "text": [
      "\n"
     ]
    }
   ],
   "source": [
    "dataset = get_test_dataset()\n",
    "itow = dict(zip(dataset.vocab.values(), dataset.vocab.keys()))"
   ]
  },
  {
   "cell_type": "markdown",
   "metadata": {},
   "source": [
    "### Load your trained model"
   ]
  },
  {
   "cell_type": "code",
   "execution_count": 5,
   "metadata": {},
   "outputs": [],
   "source": [
    "#!sh ../src/download_pretrained.sh ../results/pretrained_hier.pth\n",
    "#path_to_ckpt = RESULT_DIR / 'pretrained_hier.pth'  # ckpt will apear here you run training\n",
    "#model = HAN.from_imbd_ckpt(path_to_ckpt)"
   ]
  },
  {
   "cell_type": "markdown",
   "metadata": {},
   "source": [
    "### Load pretrained model"
   ]
  },
  {
   "cell_type": "code",
   "execution_count": 6,
   "metadata": {},
   "outputs": [
    {
     "name": "stdout",
     "output_type": "stream",
     "text": [
      "Model was loaded from ../results/pretrained_hier.pth.\n"
     ]
    }
   ],
   "source": [
    "!! chmod 700 ../src/download_pretrained.sh && bash -c ../src/download_pretrained.sh\n",
    "\n",
    "path_to_ckpt = RESULT_DIR / 'pretrained_hier.pth'\n",
    "model = HAN.from_imbd_ckpt(path_to_ckpt)"
   ]
  },
  {
   "cell_type": "markdown",
   "metadata": {},
   "source": [
    "## Display predict for reviews from test"
   ]
  },
  {
   "cell_type": "code",
   "execution_count": 7,
   "metadata": {
    "scrolled": false
   },
   "outputs": [
    {
     "name": "stdout",
     "output_type": "stream",
     "text": [
      "Predict: positive (confedence: 0.997)\n",
      "Ground truth: positive.\n"
     ]
    },
    {
     "data": {
      "text/html": [
       "<p style=\"font-size:14px;\"><span style=\"background-color: #FEFEFF\">Sent #1 | </span> <span style=\"background-color: #3C3CFF\">fantastic</span> <span style=\"background-color: #FEFEFF\">chaplin</span> <span style=\"background-color: #FEFEFF\">movie</span> <span style=\"background-color: #FEFEFF\">with</span> <span style=\"background-color: #FEFEFF\">many</span> <span style=\"background-color: #FEFEFF\">memorable</span> <span style=\"background-color: #FEFEFF\">moments</span> <span style=\"background-color: #FEFEFF\">as</span> <span style=\"background-color: #FEFEFF\">charlie</span> <span style=\"background-color: #FEFEFF\">joins</span> <span style=\"background-color: #FEFEFF\">the</span> <span style=\"background-color: #FEFEFF\">army</span> <span style=\"background-color: #FEFEFF\">to</span> <span style=\"background-color: #FFFEFE\">fight</span> <span style=\"background-color: #FFFEFE\">in</span> <span style=\"background-color: #FFFEFE\">ww</span> <span style=\"background-color: #FFFEFE\">at</span> <span style=\"background-color: #FFFEFE\">first</span> <span style=\"background-color: #FFFEFE\">he</span> <span style=\"background-color: #FFFEFE\">goes</span> <span style=\"background-color: #FFFEFE\">to</span> <span style=\"background-color: #FFFEFE\">boot</span> <span style=\"background-color: #FFFEFE\">camp</span> <span style=\"background-color: #FFFEFE\">where</span> <span style=\"background-color: #FEFEFF\">he</span> <span style=\"background-color: #FEFEFF\">has</span> <span style=\"background-color: #FEFEFF\">to</span> <span style=\"background-color: #FEFEFF\">learn</span> <span style=\"background-color: #FEFEFF\">how</span> <span style=\"background-color: #FFFEFE\">to</span> <span style=\"background-color: #FFFEFE\">handle</span> <span style=\"background-color: #FFFEFE\">his</span> <span style=\"background-color: #FFFEFE\">rifle</span> <span style=\"background-color: #FFFEFE\">and</span> <span style=\"background-color: #FFFEFE\">how</span> <span style=\"background-color: #FFFEFE\">to</span> <span style=\"background-color: #FFFEFE\">walk</span> <span style=\"background-color: #FFFEFE\">in</span> <span style=\"background-color: #FFFEFE\">line</span></p>"
      ]
     },
     "metadata": {},
     "output_type": "display_data"
    },
    {
     "data": {
      "text/html": [
       "<p style=\"font-size:14px;\"><span style=\"background-color: #FEFEFF\">Sent #2 | </span> <span style=\"background-color: #FEFEFF\">that</span> <span style=\"background-color: #FEFEFF\">s</span> <span style=\"background-color: #FEFEFF\">a</span> <span style=\"background-color: #FEFEFF\">really</span> <span style=\"background-color: #3C3CFF\">funny</span> <span style=\"background-color: #FEFEFF\">scene</span> <span style=\"background-color: #FEFEFF\">as</span> <span style=\"background-color: #FEFEFF\">the</span> <span style=\"background-color: #FEFEFF\">tramp</span> <span style=\"background-color: #FEFEFF\">is</span> <span style=\"background-color: #FEFEFF\">not</span> <span style=\"background-color: #FEFEFF\">used</span> <span style=\"background-color: #FEFEFF\">to</span> <span style=\"background-color: #FEFEFF\">keeping</span> <span style=\"background-color: #FEFEFF\">his</span> <span style=\"background-color: #FEFEFF\">feet</span> <span style=\"background-color: #FEFEFF\">straight</span> <span style=\"background-color: #FEFEFF\">!</span></p>"
      ]
     },
     "metadata": {},
     "output_type": "display_data"
    },
    {
     "data": {
      "text/html": [
       "<p style=\"font-size:14px;\"><span style=\"background-color: #FEFEFF\">Sent #3 | </span> <span style=\"background-color: #FEFEFF\">next</span> <span style=\"background-color: #FEFEFF\">thing</span> <span style=\"background-color: #F8F8FF\">you</span> <span style=\"background-color: #FEFEFF\">know</span> <span style=\"background-color: #FEFEFF\">he</span> <span style=\"background-color: #FEFEFF\">s</span> <span style=\"background-color: #FEFEFF\">in</span> <span style=\"background-color: #4040FF\">france</span> <span style=\"background-color: #FEFEFF\">in</span> <span style=\"background-color: #FEFEFF\">a</span> <span style=\"background-color: #FEFEFF\">trench</span></p>"
      ]
     },
     "metadata": {},
     "output_type": "display_data"
    },
    {
     "data": {
      "text/html": [
       "<p style=\"font-size:14px;\"><span style=\"background-color: #FEFEFF\">Sent #4 | </span> <span style=\"background-color: #3C3CFF\">hilarious</span> <span style=\"background-color: #FEFEFF\">scenes</span> <span style=\"background-color: #FEFEFF\">here</span> <span style=\"background-color: #FEFEFF\">include</span> <span style=\"background-color: #FEFEFF\">a</span> <span style=\"background-color: #FFFEFE\">starving</span> <span style=\"background-color: #FFFEFE\">charlie</span> <span style=\"background-color: #FFFEFE\">eating</span> <span style=\"background-color: #FFFEFE\">the</span> <span style=\"background-color: #FFFEFE\">cheese</span> <span style=\"background-color: #FEFEFF\">of</span> <span style=\"background-color: #FEFEFF\">a</span> <span style=\"background-color: #FEFEFF\">mousetrap</span> <span style=\"background-color: #FEFEFF\">and</span> <span style=\"background-color: #FEFEFF\">reading</span> <span style=\"background-color: #FEFEFF\">a</span> <span style=\"background-color: #FEFEFF\">letter</span> <span style=\"background-color: #FFFEFE\">from</span> <span style=\"background-color: #FEFEFF\">home</span> <span style=\"background-color: #FFFEFE\">over</span> <span style=\"background-color: #FEFEFF\">someone</span> <span style=\"background-color: #FFFEFE\">s</span> <span style=\"background-color: #FFFEFE\">shoulder</span></p>"
      ]
     },
     "metadata": {},
     "output_type": "display_data"
    },
    {
     "data": {
      "text/html": [
       "<p style=\"font-size:14px;\"><span style=\"background-color: #FEFEFF\">Sent #5 | </span> <span style=\"background-color: #FEFEFF\">when</span> <span style=\"background-color: #FEFEFF\">charlie</span> <span style=\"background-color: #FEFEFF\">goes</span> <span style=\"background-color: #FEFEFF\">to</span> <span style=\"background-color: #FEFEFF\">sleep</span> <span style=\"background-color: #FEFEFF\">he</span> <span style=\"background-color: #FEFEFF\">finds</span> <span style=\"background-color: #FEFEFF\">his</span> <span style=\"background-color: #3C3CFF\">bunker</span> <span style=\"background-color: #FEFEFF\">all</span> <span style=\"background-color: #FEFEFF\">flooded</span> <span style=\"background-color: #FEFEFF\">and</span> <span style=\"background-color: #FEFEFF\">his</span> <span style=\"background-color: #FEFEFF\">roommate</span> <span style=\"background-color: #FEFEFF\">snoring</span></p>"
      ]
     },
     "metadata": {},
     "output_type": "display_data"
    },
    {
     "data": {
      "text/html": [
       "<p style=\"font-size:14px;\"><span style=\"background-color: #FEFEFF\">Sent #6 | </span> <span style=\"background-color: #FEFEFF\">this</span> <span style=\"background-color: #FEFEFF\">is</span> <span style=\"background-color: #FEFEFF\">such</span> <span style=\"background-color: #FEFEFF\">a</span> <span style=\"background-color: #3C3CFF\">funny</span> <span style=\"background-color: #FEFEFF\">part</span> <span style=\"background-color: #FEFEFF\">!</span></p>"
      ]
     },
     "metadata": {},
     "output_type": "display_data"
    },
    {
     "data": {
      "text/html": [
       "<p style=\"font-size:14px;\"><span style=\"background-color: #FEFEFF\">Sent #7 | </span> <span style=\"background-color: #9090FF\">i</span> <span style=\"background-color: #8383FF\">can</span> <span style=\"background-color: #FEFEFF\">t</span> <span style=\"background-color: #FEFEFF\">really</span> <span style=\"background-color: #FEFEFF\">describe</span> <span style=\"background-color: #FEFEFF\">it</span> <span style=\"background-color: #FEFEFF\">just</span> <span style=\"background-color: #FCFCFF\">watch</span> <span style=\"background-color: #FEFEFF\">the</span> <span style=\"background-color: #FEFEFF\">movie</span></p>"
      ]
     },
     "metadata": {},
     "output_type": "display_data"
    },
    {
     "data": {
      "text/html": [
       "<p style=\"font-size:14px;\"><span style=\"background-color: #FEFEFF\">Sent #8 | </span> <span style=\"background-color: #FEFEFF\">when</span> <span style=\"background-color: #FEFEFF\">charlie</span> <span style=\"background-color: #FEFEFF\">wakes</span> <span style=\"background-color: #FEFEFF\">up</span> <span style=\"background-color: #FEFEFF\">his</span> <span style=\"background-color: #FEFEFF\">legs</span> <span style=\"background-color: #FEFEFF\">feel</span> <span style=\"background-color: #FEFEFF\">numb</span> <span style=\"background-color: #E0E0FF\">so</span> <span style=\"background-color: #4949FF\">he</span> <span style=\"background-color: #FEFEFF\">tries</span> <span style=\"background-color: #FEFEFF\">to</span> <span style=\"background-color: #FEFEFF\">wake</span> <span style=\"background-color: #FEFEFF\">them</span> <span style=\"background-color: #FEFEFF\">up</span></p>"
      ]
     },
     "metadata": {},
     "output_type": "display_data"
    },
    {
     "data": {
      "text/html": [
       "<p style=\"font-size:14px;\"><span style=\"background-color: #FEFEFF\">Sent #9 | </span> <span style=\"background-color: #FCFCFF\">it</span> <span style=\"background-color: #FEFEFF\">had</span> <span style=\"background-color: #FEFEFF\">me</span> <span style=\"background-color: #FEFEFF\">rolling</span> <span style=\"background-color: #FEFEFF\">on</span> <span style=\"background-color: #FEFEFF\">the</span> <span style=\"background-color: #FEFEFF\">floor</span> <span style=\"background-color: #FEFEFF\">when</span> <span style=\"background-color: #FEFEFF\">it</span> <span style=\"background-color: #FEFEFF\">turns</span> <span style=\"background-color: #FEFEFF\">out</span> <span style=\"background-color: #FEFEFF\">his</span> <span style=\"background-color: #FEFEFF\">second</span> <span style=\"background-color: #FEFEFF\">leg</span> <span style=\"background-color: #3E3EFF\">still</span> <span style=\"background-color: #FEFEFF\">feels</span> <span style=\"background-color: #FEFEFF\">numb</span> <span style=\"background-color: #FEFEFF\">while</span> <span style=\"background-color: #FEFEFF\">charlie</span> <span style=\"background-color: #FEFEFF\">actually</span> <span style=\"background-color: #FEFEFF\">rubs</span> <span style=\"background-color: #FEFEFF\">his</span> <span style=\"background-color: #FEFEFF\">roommate</span> <span style=\"background-color: #FEFEFF\">s</span> <span style=\"background-color: #FEFEFF\">foot</span> <span style=\"background-color: #FEFEFF\">!</span></p>"
      ]
     },
     "metadata": {},
     "output_type": "display_data"
    },
    {
     "data": {
      "text/html": [
       "<p style=\"font-size:14px;\"><span style=\"background-color: #FEFEFF\">Sent #10 | </span> <span style=\"background-color: #FEFEFF\">the</span> <span style=\"background-color: #FFFEFE\">movie</span> <span style=\"background-color: #FFFEFE\">then</span> <span style=\"background-color: #FEFEFF\">turns</span> <span style=\"background-color: #FEFEFF\">a</span> <span style=\"background-color: #FEFEFF\">bit</span> <span style=\"background-color: #FEFEFF\">grim</span> <span style=\"background-color: #FEFEFF\">as</span> <span style=\"background-color: #FEFEFF\">charlie</span> <span style=\"background-color: #FEFEFF\">shoots</span> <span style=\"background-color: #FEFEFF\">a</span> <span style=\"background-color: #FEFEFF\">couple</span> <span style=\"background-color: #FEFEFF\">of</span> <span style=\"background-color: #FEFEFF\">germans</span> <span style=\"background-color: #FEFEFF\">from</span> <span style=\"background-color: #FEFEFF\">his</span> <span style=\"background-color: #FEFEFF\">trench</span> <span style=\"background-color: #FEFEFF\">although</span> <span style=\"background-color: #FEFEFF\">it</span> <span style=\"background-color: #FEFEFF\">s</span> <span style=\"background-color: #FEFEFF\">done</span> <span style=\"background-color: #FEFEFF\">in</span> <span style=\"background-color: #FEFEFF\">a</span> <span style=\"background-color: #FEFEFF\">very</span> <span style=\"background-color: #3E3EFF\">funny</span> <span style=\"background-color: #FCFCFF\">way</span> <span style=\"background-color: #FEFEFF\">and</span> <span style=\"background-color: #FEFEFF\">him</span> <span style=\"background-color: #FEFEFF\">as</span> <span style=\"background-color: #FEFEFF\">a</span> <span style=\"background-color: #FEFEFF\">tree</span> <span style=\"background-color: #FEFEFF\">to</span> <span style=\"background-color: #FEFEFF\">get</span> <span style=\"background-color: #FEFEFF\">close</span> <span style=\"background-color: #FFFEFE\">to</span> <span style=\"background-color: #FFFEFE\">the</span> <span style=\"background-color: #FEFEFF\">enemy</span> <span style=\"background-color: #FEFEFF\">saving</span> <span style=\"background-color: #FFFEFE\">a</span> <span style=\"background-color: #FEFEFF\">friend</span> <span style=\"background-color: #FEFEFF\">of</span> <span style=\"background-color: #FEFEFF\">his</span> <span style=\"background-color: #FFFEFE\">from</span> <span style=\"background-color: #FFFEFE\">a</span> <span style=\"background-color: #FEFEFF\">death</span> <span style=\"background-color: #FEFEFF\">squad</span></p>"
      ]
     },
     "metadata": {},
     "output_type": "display_data"
    },
    {
     "data": {
      "text/html": [
       "<p style=\"font-size:14px;\"><span style=\"background-color: #FEFEFF\">Sent #11 | </span> <span style=\"background-color: #FEFEFF\">last</span> <span style=\"background-color: #FEFEFF\">part</span> <span style=\"background-color: #FCFCFF\">is</span> <span style=\"background-color: #6161FF\">him</span> <span style=\"background-color: #BABAFF\">getting</span> <span style=\"background-color: #FEFEFF\">a</span> <span style=\"background-color: #FEFEFF\">french</span> <span style=\"background-color: #FEFEFF\">girl</span> <span style=\"background-color: #FEFEFF\">in</span> <span style=\"background-color: #FEFEFF\">trouble</span> <span style=\"background-color: #FEFEFF\">by</span> <span style=\"background-color: #FEFEFF\">hiding</span> <span style=\"background-color: #FEFEFF\">in</span> <span style=\"background-color: #FEFEFF\">her</span> <span style=\"background-color: #FEFEFF\">house</span></p>"
      ]
     },
     "metadata": {},
     "output_type": "display_data"
    },
    {
     "data": {
      "text/html": [
       "<p style=\"font-size:14px;\"><span style=\"background-color: #FEFEFF\">Sent #12 | </span> <span style=\"background-color: #FEFEFF\">he</span> <span style=\"background-color: #FEFEFF\">then</span> <span style=\"background-color: #FEFEFF\">has</span> <span style=\"background-color: #FEFEFF\">to</span> <span style=\"background-color: #FEFEFF\">save</span> <span style=\"background-color: #FEFEFF\">her</span> <span style=\"background-color: #FEFEFF\">and</span> <span style=\"background-color: #FEFEFF\">while</span> <span style=\"background-color: #FEFEFF\">doing</span> <span style=\"background-color: #FEFEFF\">so</span> <span style=\"background-color: #FEFEFF\">he</span> <span style=\"background-color: #3C3CFF\">captures</span> <span style=\"background-color: #FEFEFF\">the</span> <span style=\"background-color: #FEFEFF\">german</span> <span style=\"background-color: #FEFEFF\">kaiser</span> <span style=\"background-color: #FEFEFF\">as</span> <span style=\"background-color: #FEFEFF\">well</span></p>"
      ]
     },
     "metadata": {},
     "output_type": "display_data"
    },
    {
     "data": {
      "text/html": [
       "<p style=\"font-size:14px;\"><span style=\"background-color: #FEFEFF\">Sent #13 | </span> <span style=\"background-color: #5050FF\">to</span> <span style=\"background-color: #F2F2FF\">do</span> <span style=\"background-color: #FEFEFF\">so</span> <span style=\"background-color: #FAFAFF\">he</span> <span style=\"background-color: #EAEAFF\">impersonates</span> <span style=\"background-color: #FEFEFF\">a</span> <span style=\"background-color: #FEFEFF\">german</span> <span style=\"background-color: #FEFEFF\">or</span> <span style=\"background-color: #FEFEFF\">something</span></p>"
      ]
     },
     "metadata": {},
     "output_type": "display_data"
    },
    {
     "data": {
      "text/html": [
       "<p style=\"font-size:14px;\"><span style=\"background-color: #FEFEFF\">Sent #14 | </span> <span style=\"background-color: #FEFEFF\">i</span> <span style=\"background-color: #3C3CFF\">love</span> <span style=\"background-color: #FEFEFF\">it</span> <span style=\"background-color: #FEFEFF\">when</span> <span style=\"background-color: #FEFEFF\">charlie</span> <span style=\"background-color: #FEFEFF\">is</span> <span style=\"background-color: #FEFEFF\">asked</span> <span style=\"background-color: #FEFEFF\">something</span> <span style=\"background-color: #FEFEFF\">in</span> <span style=\"background-color: #FEFEFF\">german</span> <span style=\"background-color: #FEFEFF\">and</span> <span style=\"background-color: #FEFEFF\">he</span> <span style=\"background-color: #FEFEFF\">s</span> <span style=\"background-color: #FEFEFF\">like</span></p>"
      ]
     },
     "metadata": {},
     "output_type": "display_data"
    },
    {
     "data": {
      "text/html": [
       "<p style=\"font-size:14px;\"><span style=\"background-color: #FEFEFF\">Sent #15 | </span> <span style=\"background-color: #FEFEFF\">the</span> <span style=\"background-color: #FEFEFF\">soldier</span> <span style=\"background-color: #FEFEFF\">looks</span> <span style=\"background-color: #FEFEFF\">at</span> <span style=\"background-color: #FEFEFF\">him</span> <span style=\"background-color: #FEFEFF\">in</span> <span style=\"background-color: #FEFEFF\">a</span> <span style=\"background-color: #B3B3FF\">funny</span> <span style=\"background-color: #6464FF\">way</span> <span style=\"background-color: #FEFEFF\">so</span> <span style=\"background-color: #FEFEFF\">charlie</span> <span style=\"background-color: #FEFEFF\">changes</span> <span style=\"background-color: #FEFEFF\">his</span> <span style=\"background-color: #FEFEFF\">mind</span> <span style=\"background-color: #FEFEFF\">!</span></p>"
      ]
     },
     "metadata": {},
     "output_type": "display_data"
    },
    {
     "data": {
      "text/html": [
       "<p style=\"font-size:14px;\"><span style=\"background-color: #E2E2FF\">Sent #16 | </span> <span style=\"background-color: #FFFEFE\">the</span> <span style=\"background-color: #FFFEFE\">kaiser</span> <span style=\"background-color: #FFFEFE\">gets</span> <span style=\"background-color: #FEFEFF\">captured</span> <span style=\"background-color: #FFFEFE\">and</span> <span style=\"background-color: #FFFEFE\">charlie</span> <span style=\"background-color: #FEFEFF\">is</span> <span style=\"background-color: #FFFEFE\">the</span> <span style=\"background-color: #FEFEFF\">hero</span> <span style=\"background-color: #FFFEFE\">but</span> <span style=\"background-color: #FEFEFF\">then</span> <span style=\"background-color: #FEFEFF\">he</span> <span style=\"background-color: #FFFEFE\">wakes</span> <span style=\"background-color: #FFFEFE\">up</span> <span style=\"background-color: #FFFEFE\">again</span> <span style=\"background-color: #FFFEFE\">in</span> <span style=\"background-color: #FEFEFF\">it</span> <span style=\"background-color: #FEFEFF\">was</span> <span style=\"background-color: #FEFEFF\">just</span> <span style=\"background-color: #FEFEFF\">a</span> <span style=\"background-color: #7E7EFF\">sweet</span> <span style=\"background-color: #9393FF\">dream</span> <span style=\"background-color: #FEFEFF\">!</span></p>"
      ]
     },
     "metadata": {},
     "output_type": "display_data"
    },
    {
     "data": {
      "text/html": [
       "<p style=\"font-size:14px;\"><span style=\"background-color: #F8F8FF\">Sent #17 | </span> <span style=\"background-color: #FEFEFF\">charlie</span> <span style=\"background-color: #FEFEFF\">did</span> <span style=\"background-color: #FEFEFF\">one</span> <span style=\"background-color: #FEFEFF\">of</span> <span style=\"background-color: #FEFEFF\">those</span> <span style=\"background-color: #FEFEFF\">dream</span> <span style=\"background-color: #FEFEFF\">sequences</span> <span style=\"background-color: #FFFEFE\">before</span> <span style=\"background-color: #FFFEFE\">the</span> <span style=\"background-color: #FFFEFE\">bank</span> <span style=\"background-color: #FFFEFE\">comes</span> <span style=\"background-color: #FFFEFE\">to</span> <span style=\"background-color: #FFFEFE\">mind</span> <span style=\"background-color: #FEFEFF\">but</span> <span style=\"background-color: #FEFEFF\">who</span> <span style=\"background-color: #FEFEFF\">cares</span> <span style=\"background-color: #FEFEFF\">this</span> <span style=\"background-color: #FEFEFF\">movie</span> <span style=\"background-color: #FEFEFF\">was</span> <span style=\"background-color: #FEFEFF\">so</span> <span style=\"background-color: #3C3CFF\">funny</span> <span style=\"background-color: #FEFEFF\">it</span> <span style=\"background-color: #FEFEFF\">had</span> <span style=\"background-color: #FEFEFF\">me</span> <span style=\"background-color: #FEFEFF\">laughing</span> <span style=\"background-color: #FEFEFF\">all</span> <span style=\"background-color: #FEFEFF\">the</span> <span style=\"background-color: #FEFEFF\">way</span></p>"
      ]
     },
     "metadata": {},
     "output_type": "display_data"
    },
    {
     "data": {
      "text/html": [
       "<p style=\"font-size:14px;\"><span style=\"background-color: #D2D2FF\">Sent #18 | </span> <span style=\"background-color: #FEFEFF\">chaplin</span> <span style=\"background-color: #FEFEFF\">also</span> <span style=\"background-color: #FEFEFF\">has</span> <span style=\"background-color: #FEFEFF\">something</span> <span style=\"background-color: #FEFEFF\">to</span> <span style=\"background-color: #FFFEFE\">say</span> <span style=\"background-color: #FFFEFE\">with</span> <span style=\"background-color: #FEFEFF\">this</span> <span style=\"background-color: #FFFEFE\">movie</span> <span style=\"background-color: #FEFEFF\">as</span> <span style=\"background-color: #FEFEFF\">his</span> <span style=\"background-color: #FEFEFF\">later</span> <span style=\"background-color: #FEFEFF\">work</span> <span style=\"background-color: #FEFEFF\">became</span> <span style=\"background-color: #FEFEFF\">more</span> <span style=\"background-color: #FEFEFF\">of</span> <span style=\"background-color: #FEFEFF\">a</span> <span style=\"background-color: #FEFEFF\">social</span> <span style=\"background-color: #FFFEFE\">comment</span> <span style=\"background-color: #FFFEFE\">to</span> <span style=\"background-color: #FFFEFE\">several</span> <span style=\"background-color: #FFFEFE\">mishaps</span> <span style=\"background-color: #FFFEFE\">in</span> <span style=\"background-color: #FFFEFE\">the</span> <span style=\"background-color: #FEFEFF\">world</span> <span style=\"background-color: #FEFEFF\">and</span> <span style=\"background-color: #FEFEFF\">is</span> <span style=\"background-color: #FEFEFF\">explained</span> <span style=\"background-color: #3C3CFF\">best</span> <span style=\"background-color: #FEFEFF\">in</span> <span style=\"background-color: #FEFEFF\">the</span> <span style=\"background-color: #FFFEFE\">last</span> <span style=\"background-color: #FFFEFE\">sentence</span> <span style=\"background-color: #FEFEFF\">of</span> <span style=\"background-color: #FEFEFF\">the</span> <span style=\"background-color: #FEFEFF\">movie</span> <span style=\"background-color: #FEFEFF\">peace</span> <span style=\"background-color: #FEFEFF\">on</span> <span style=\"background-color: #FEFEFF\">earth</span> <span style=\"background-color: #FEFEFF\">good</span> <span style=\"background-color: #FEFEFF\">will</span> <span style=\"background-color: #FEFEFF\">to</span> <span style=\"background-color: #FEFEFF\">all</span> <span style=\"background-color: #FEFEFF\">mankind</span></p>"
      ]
     },
     "metadata": {},
     "output_type": "display_data"
    },
    {
     "data": {
      "text/html": [
       "<p style=\"font-size:14px;\"><span style=\"background-color: #FCFCFF\">Sent #19 | </span> <span style=\"background-color: #FFFEFE\">in</span> <span style=\"background-color: #FFFEFE\">short</span> <span style=\"background-color: #FFFEFE\">a</span> <span style=\"background-color: #FFFEFE\">charlie</span> <span style=\"background-color: #FEFEFF\">classic</span> <span style=\"background-color: #FEFEFF\">very</span> <span style=\"background-color: #FEFEFF\">funny</span> <span style=\"background-color: #3C3CFF\">timeless</span></p>"
      ]
     },
     "metadata": {},
     "output_type": "display_data"
    },
    {
     "data": {
      "text/html": [
       "<p style=\"font-size:14px;\"><span style=\"background-color: #FEFEFF\">Sent #20 | </span></p>"
      ]
     },
     "metadata": {},
     "output_type": "display_data"
    },
    {
     "name": "stdout",
     "output_type": "stream",
     "text": [
      "Raw review:\n",
      "Fantastic Chaplin movie with many memorable moments as Charlie joins the army to fight in WW 1.<br /><br />At first he goes to boot camp, where he has to learn how to handle his rifle and how to walk in line. That's a really funny scene as the tramp is not used to keeping his feet straight!<br /><br />Next thing you know he's in France in a trench. Hilarious scenes here include a starving Charlie eating the cheese of a mousetrap and reading a letter from home over someone's shoulder.<br /><br />When Charlie goes to sleep he finds his bunker all flooded and his roommate snoring. This is such a funny part! I can't really describe it, just watch the movie. When Charlie wakes up his legs feel numb so he tries to 'wake them up'. It had me rolling on the floor when it turns out his second leg still feels numb... while Charlie actually rubs his roommate's foot!<br /><br />The movie then turns a bit grim, as Charlie shoots a couple of Germans from his trench (although it's done in a very funny way) and him personating as a tree to get close to the enemy, saving a friend of his from a death squad.<br /><br />Last part is him getting a french girl in trouble by hiding in her house. He then has to save her and while doing so he captures the german kaiser as well. To do so he impersonates a german kolonel or something. I love it when Charlie is asked something in german and he's like nein nein nein. The soldier looks at him in a funny way so Charlie changes his mind: ja ja ja! The kaiser gets captured and Charlie is the hero... but then he wakes up again in bootcamp, it was just a sweet dream!<br /><br />Charlie did one of those 'dream-sequences' before (The Bank comes to mind) but who cares, this movie was so funny it had me laughing all the way. Chaplin also has something to say with this movie (as his later work became more of a social comment to several mishaps in the world) and is explained best in the last sentence of the movie: 'Peace on earth, good will to all mankind.'<br /><br />In short: a Charlie classic, very funny, timeless. 9/10.\n"
     ]
    }
   ],
   "source": [
    "from random import randint\n",
    "\n",
    "idx = randint(1, len(dataset))\n",
    "batch = collate_docs([dataset[idx]])\n",
    "display_predict(model=model, batch=batch, itow=itow)\n",
    "    \n",
    "print('Raw review:')\n",
    "print(open(dataset._paths[idx], 'r').read())"
   ]
  },
  {
   "cell_type": "markdown",
   "metadata": {},
   "source": [
    "## Display predict on your own review"
   ]
  },
  {
   "cell_type": "code",
   "execution_count": 8,
   "metadata": {},
   "outputs": [
    {
     "name": "stdout",
     "output_type": "stream",
     "text": [
      "Predict: positive (confedence: 0.334)\n"
     ]
    },
    {
     "data": {
      "text/html": [
       "<p style=\"font-size:14px;\"><span style=\"background-color: #FEFEFF\">Sent #1 | </span> <span style=\"background-color: #B6B6FF\">i</span> <span style=\"background-color: #6666FF\">really</span> <span style=\"background-color: #FAFAFF\">like</span> <span style=\"background-color: #FEFEFF\">films</span> <span style=\"background-color: #FEFEFF\">like</span> <span style=\"background-color: #FEFEFF\">this</span> <span style=\"background-color: #FEFEFF\">!</span></p>"
      ]
     },
     "metadata": {},
     "output_type": "display_data"
    },
    {
     "data": {
      "text/html": [
       "<p style=\"font-size:14px;\"><span style=\"background-color: #FEFEFF\">Sent #2 | </span> <span style=\"background-color: #FEFEFF\">i</span> <span style=\"background-color: #3C3CFF\">discover</span> <span style=\"background-color: #FEFEFF\">several</span> <span style=\"background-color: #FEFEFF\">new</span> <span style=\"background-color: #FEFEFF\">talents</span> <span style=\"background-color: #FEFEFF\">for</span> <span style=\"background-color: #FEFEFF\">myself</span></p>"
      ]
     },
     "metadata": {},
     "output_type": "display_data"
    },
    {
     "data": {
      "text/html": [
       "<p style=\"font-size:14px;\"><span style=\"background-color: #ACACFF\">Sent #3 | </span> <span style=\"background-color: #FEFEFF\">the</span> <span style=\"background-color: #FEFEFF\">sound</span> <span style=\"background-color: #FEFEFF\">was</span> <span style=\"background-color: #3C3CFF\">great</span> <span style=\"background-color: #FEFEFF\">and</span> <span style=\"background-color: #FEFEFF\">picture</span> <span style=\"background-color: #FEFEFF\">as</span> <span style=\"background-color: #FEFEFF\">well</span></p>"
      ]
     },
     "metadata": {},
     "output_type": "display_data"
    },
    {
     "data": {
      "text/html": [
       "<p style=\"font-size:14px;\"><span style=\"background-color: #FEFEFF\">Sent #4 | </span> <span style=\"background-color: #5E5EFF\">so</span> <span style=\"background-color: #C2C2FF\">i</span> <span style=\"background-color: #FEFEFF\">am</span> <span style=\"background-color: #FAFAFF\">going</span> <span style=\"background-color: #FEFEFF\">to</span> <span style=\"background-color: #FEFEFF\">see</span> <span style=\"background-color: #FEFEFF\">it</span> <span style=\"background-color: #FEFEFF\">again</span></p>"
      ]
     },
     "metadata": {},
     "output_type": "display_data"
    }
   ],
   "source": [
    "text_str = '''\n",
    "\n",
    "I really like films like this! I discover several new talents for myself. \n",
    "The sound was great and picture as well. So, I am going to see it again.\n",
    "\n",
    "'''\n",
    "\n",
    "\n",
    "text, snt_max_len, txt_len  = dataset.tokenize_plane_text(text_str)\n",
    "\n",
    "batch = collate_docs([{'txt': text, 'snt_len': snt_max_len,\n",
    "                       'txt_len': txt_len, 'label': -1}])\n",
    "batch['targets'] = None\n",
    "\n",
    "display_predict(model=model, batch=batch, itow=itow)"
   ]
  }
 ],
 "metadata": {
  "kernelspec": {
   "display_name": "Python 3",
   "language": "python",
   "name": "python3"
  },
  "language_info": {
   "codemirror_mode": {
    "name": "ipython",
    "version": 3
   },
   "file_extension": ".py",
   "mimetype": "text/x-python",
   "name": "python",
   "nbconvert_exporter": "python",
   "pygments_lexer": "ipython3",
   "version": "3.6.9"
  },
  "pycharm": {
   "stem_cell": {
    "cell_type": "raw",
    "metadata": {
     "collapsed": false
    },
    "source": []
   }
  }
 },
 "nbformat": 4,
 "nbformat_minor": 2
}
