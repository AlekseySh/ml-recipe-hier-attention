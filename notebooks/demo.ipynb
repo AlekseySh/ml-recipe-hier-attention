{
 "cells": [
  {
   "cell_type": "markdown",
   "metadata": {},
   "source": [
    "# Heirarchical Attention Network for text classification"
   ]
  },
  {
   "cell_type": "code",
   "execution_count": 1,
   "metadata": {},
   "outputs": [],
   "source": [
    "## Uncomment command below to kill current job:\n",
    "#!neuro kill $(hostname)"
   ]
  },
  {
   "cell_type": "markdown",
   "metadata": {},
   "source": [
    "Our recipe is based on highly cited paper\n",
    "[Hierarchical Attention Networks for Document Classification](https://arxiv.org/abs/1608.07775) (Z. Yang et al.), \n",
    "published in 2017. We classify the IMDB's reviews as positive and negative\n",
    "(25k reviews for train and the same number for test). The proposed neural network architecture takes two steps:\n",
    "1. It encodes sentences. The attention mechanism predicts the importance for each word in the final embedding of a sentence.\n",
    "2. It encodes texts. The attention mechanism predicts the importance for each sentence in the final embedding of a text.\n",
    "\n",
    "This architecture is exciting because we can make an illustration to understand what words and sentences were\n",
    "important for prediction. You can find more information in the original article."
   ]
  },
  {
   "cell_type": "code",
   "execution_count": 2,
   "metadata": {
    "pycharm": {
     "name": "#%%\n"
    }
   },
   "outputs": [],
   "source": [
    "%load_ext autoreload\n",
    "%autoreload 2\n",
    "\n",
    "import sys\n",
    "sys.path.append(\"..\")\n",
    "\n",
    "from src.notebooks_utils import display_predict\n",
    "from src.dataset import get_test_dataset, collate_docs, ImdbReviewsDataset\n",
    "from src.model import HAN\n",
    "from src.const import RESULT_DIR"
   ]
  },
  {
   "cell_type": "markdown",
   "metadata": {},
   "source": [
    "### Load IMDB reviews dataset"
   ]
  },
  {
   "cell_type": "code",
   "execution_count": 3,
   "metadata": {},
   "outputs": [
    {
     "name": "stdout",
     "output_type": "stream",
     "text": [
      "Dataset loading from /data/aclImdb/test.\n"
     ]
    },
    {
     "data": {
      "application/vnd.jupyter.widget-view+json": {
       "model_id": "7c176b7c7578425a9d146569771b1cd2",
       "version_major": 2,
       "version_minor": 0
      },
      "text/plain": [
       "HBox(children=(FloatProgress(value=0.0, max=25000.0), HTML(value='')))"
      ]
     },
     "metadata": {},
     "output_type": "display_data"
    },
    {
     "name": "stdout",
     "output_type": "stream",
     "text": [
      "\n"
     ]
    }
   ],
   "source": [
    "dataset = get_test_dataset()\n",
    "itow = dict(zip(dataset.vocab.values(), dataset.vocab.keys()))"
   ]
  },
  {
   "cell_type": "markdown",
   "metadata": {},
   "source": [
    "### Load your trained model"
   ]
  },
  {
   "cell_type": "code",
   "execution_count": 4,
   "metadata": {},
   "outputs": [],
   "source": [
    "# path_to_ckpt = RESULT_DIR / 'logs' / 'checkpoints' / 'best.pth'  # ckpt will apear here you run training\n",
    "# model = HAN.from_imbd_ckpt(path_to_ckpt)"
   ]
  },
  {
   "cell_type": "markdown",
   "metadata": {},
   "source": [
    "### Load pretrained model"
   ]
  },
  {
   "cell_type": "code",
   "execution_count": 5,
   "metadata": {},
   "outputs": [
    {
     "name": "stdout",
     "output_type": "stream",
     "text": [
      "Model was loaded from ../results/pretrained_hier.pth.\n"
     ]
    }
   ],
   "source": [
    "!! chmod 700 ../src/download_pretrained.sh && bash -c ../src/download_pretrained.sh\n",
    "\n",
    "path_to_ckpt = RESULT_DIR / 'pretrained_hier.pth'\n",
    "model = HAN.from_imbd_ckpt(path_to_ckpt)"
   ]
  },
  {
   "cell_type": "markdown",
   "metadata": {},
   "source": [
    "## Display predict for reviews from test"
   ]
  },
  {
   "cell_type": "code",
   "execution_count": 6,
   "metadata": {
    "scrolled": false
   },
   "outputs": [
    {
     "name": "stdout",
     "output_type": "stream",
     "text": [
      "Predict: positive (confedence: 0.875)\n",
      "Ground truth: positive.\n"
     ]
    },
    {
     "data": {
      "text/html": [
       "<p style=\"font-size:14px;\"><span style=\"background-color: #FEFEFF\">Sent #1 | </span> <span style=\"background-color: #FEFEFF\">seeing</span> <span style=\"background-color: #FEFEFF\">other</span> <span style=\"background-color: #FEFEFF\">people</span> <span style=\"background-color: #FEFEFF\">is</span> <span style=\"background-color: #FEFEFF\">a</span> <span style=\"background-color: #3C3CFF\">daring</span> <span style=\"background-color: #FEFEFF\">romantic</span> <span style=\"background-color: #FEFEFF\">comedy</span> <span style=\"background-color: #FFFEFE\">about</span> <span style=\"background-color: #FEFEFF\">a</span> <span style=\"background-color: #FEFEFF\">couple</span> <span style=\"background-color: #FEFEFF\">named</span> <span style=\"background-color: #FFFEFE\">ed</span> <span style=\"background-color: #FFFEFE\">and</span> <span style=\"background-color: #FEFEFF\">alice</span> <span style=\"background-color: #FFFEFE\">jay</span> <span style=\"background-color: #FEFEFF\">mohr</span> <span style=\"background-color: #FEFEFF\">and</span> <span style=\"background-color: #FEFEFF\">julianne</span> <span style=\"background-color: #FFFEFE\">nicholson</span> <span style=\"background-color: #FEFEFF\">who</span> <span style=\"background-color: #FEFEFF\">are</span> <span style=\"background-color: #FEFEFF\">engaged</span> <span style=\"background-color: #FEFEFF\">and</span> <span style=\"background-color: #FFFEFE\">plan</span> <span style=\"background-color: #FFFEFE\">to</span> <span style=\"background-color: #FFFEFE\">be</span> <span style=\"background-color: #FFFEFE\">wed</span> <span style=\"background-color: #FFFEFE\">soon</span></p>"
      ]
     },
     "metadata": {},
     "output_type": "display_data"
    },
    {
     "data": {
      "text/html": [
       "<p style=\"font-size:14px;\"><span style=\"background-color: #FEFEFF\">Sent #2 | </span> <span style=\"background-color: #6C6CFF\">they</span> <span style=\"background-color: #F8F8FF\">live</span> <span style=\"background-color: #FEFEFF\">together</span> <span style=\"background-color: #FEFEFF\">but</span> <span style=\"background-color: #B2B2FF\">are</span> <span style=\"background-color: #FEFEFF\">both</span> <span style=\"background-color: #FEFEFF\">having</span> <span style=\"background-color: #FEFEFF\">doubts</span> <span style=\"background-color: #FEFEFF\">about</span> <span style=\"background-color: #FEFEFF\">their</span> <span style=\"background-color: #FEFEFF\">relationship</span></p>"
      ]
     },
     "metadata": {},
     "output_type": "display_data"
    },
    {
     "data": {
      "text/html": [
       "<p style=\"font-size:14px;\"><span style=\"background-color: #FEFEFF\">Sent #3 | </span> <span style=\"background-color: #DCDCFF\">alice</span> <span style=\"background-color: #D6D6FF\">realizes</span> <span style=\"background-color: #6464FF\">she</span> <span style=\"background-color: #FEFEFF\">s</span> <span style=\"background-color: #FEFEFF\">had</span> <span style=\"background-color: #FEFEFF\">so</span> <span style=\"background-color: #FEFEFF\">few</span> <span style=\"background-color: #FEFEFF\">sexual</span> <span style=\"background-color: #FEFEFF\">relationships</span> <span style=\"background-color: #FEFEFF\">in</span> <span style=\"background-color: #FEFEFF\">the</span> <span style=\"background-color: #FEFEFF\">past</span> <span style=\"background-color: #FEFEFF\">she</span> <span style=\"background-color: #FEFEFF\">might</span> <span style=\"background-color: #FEFEFF\">just</span> <span style=\"background-color: #FEFEFF\">be</span> <span style=\"background-color: #FEFEFF\">marrying</span> <span style=\"background-color: #FEFEFF\">ed</span> <span style=\"background-color: #FEFEFF\">because</span> <span style=\"background-color: #FEFEFF\">she</span> <span style=\"background-color: #FEFEFF\">s</span> <span style=\"background-color: #FEFEFF\">never</span> <span style=\"background-color: #FEFEFF\">felt</span> <span style=\"background-color: #FEFEFF\">anything</span> <span style=\"background-color: #FEFEFF\">else</span></p>"
      ]
     },
     "metadata": {},
     "output_type": "display_data"
    },
    {
     "data": {
      "text/html": [
       "<p style=\"font-size:14px;\"><span style=\"background-color: #FEFEFF\">Sent #4 | </span> <span style=\"background-color: #5E5EFF\">so</span> <span style=\"background-color: #BEBEFF\">they</span> <span style=\"background-color: #FEFEFF\">agree</span> <span style=\"background-color: #FEFEFF\">to</span> <span style=\"background-color: #FEFEFF\">begin</span> <span style=\"background-color: #FEFEFF\">fooling</span> <span style=\"background-color: #FEFEFF\">around</span> <span style=\"background-color: #FEFEFF\">with</span> <span style=\"background-color: #FEFEFF\">other</span> <span style=\"background-color: #FEFEFF\">people</span> <span style=\"background-color: #FEFEFF\">for</span> <span style=\"background-color: #FEFEFF\">a</span> <span style=\"background-color: #FEFEFF\">while</span> <span style=\"background-color: #FEFEFF\">to</span> <span style=\"background-color: #FEFEFF\">test</span> <span style=\"background-color: #FEFEFF\">their</span> <span style=\"background-color: #FEFEFF\">own</span> <span style=\"background-color: #FEFEFF\">relationship</span></p>"
      ]
     },
     "metadata": {},
     "output_type": "display_data"
    },
    {
     "data": {
      "text/html": [
       "<p style=\"font-size:14px;\"><span style=\"background-color: #FEFEFF\">Sent #5 | </span> <span style=\"background-color: #D6D6FF\">the</span> <span style=\"background-color: #FEFEFF\">movie</span> <span style=\"background-color: #FEFEFF\">balances</span> <span style=\"background-color: #FEFEFF\">a</span> <span style=\"background-color: #5050FF\">prescient</span> <span style=\"background-color: #FEFEFF\">question</span> <span style=\"background-color: #FEFEFF\">by</span> <span style=\"background-color: #FEFEFF\">focusing</span> <span style=\"background-color: #FEFEFF\">too</span> <span style=\"background-color: #FEFEFF\">much</span> <span style=\"background-color: #FEFEFF\">on</span> <span style=\"background-color: #FEFEFF\">the</span> <span style=\"background-color: #FEFEFF\">what</span> <span style=\"background-color: #FEFEFF\">if</span></p>"
      ]
     },
     "metadata": {},
     "output_type": "display_data"
    },
    {
     "data": {
      "text/html": [
       "<p style=\"font-size:14px;\"><span style=\"background-color: #FEFEFF\">Sent #6 | </span> <span style=\"background-color: #F3F3FF\">aspects</span> <span style=\"background-color: #FCFCFF\">of</span> <span style=\"background-color: #D0D0FF\">life</span> <span style=\"background-color: #5E5EFF\">can</span> <span style=\"background-color: #FEFEFF\">it</span> <span style=\"background-color: #FEFEFF\">in</span> <span style=\"background-color: #FEFEFF\">fact</span> <span style=\"background-color: #FEFEFF\">do</span> <span style=\"background-color: #FEFEFF\">the</span> <span style=\"background-color: #FEFEFF\">opposite</span> <span style=\"background-color: #FEFEFF\">and</span> <span style=\"background-color: #FEFEFF\">only</span> <span style=\"background-color: #FEFEFF\">make</span> <span style=\"background-color: #FCFCFF\">you</span> <span style=\"background-color: #FEFEFF\">feel</span> <span style=\"background-color: #FEFEFF\">more</span> <span style=\"background-color: #FEFEFF\">constrained</span> <span style=\"background-color: #FEFEFF\">?</span></p>"
      ]
     },
     "metadata": {},
     "output_type": "display_data"
    },
    {
     "data": {
      "text/html": [
       "<p style=\"font-size:14px;\"><span style=\"background-color: #FEFEFF\">Sent #7 | </span> <span style=\"background-color: #FEFEFF\">when</span> <span style=\"background-color: #FEFEFF\">ed</span> <span style=\"background-color: #FEFEFF\">begins</span> <span style=\"background-color: #DCDCFF\">having</span> <span style=\"background-color: #FEFEFF\">sex</span> <span style=\"background-color: #FEFEFF\">with</span> <span style=\"background-color: #FEFEFF\">a</span> <span style=\"background-color: #FEFEFF\">college</span> <span style=\"background-color: #FEFEFF\">girl</span> <span style=\"background-color: #FEFEFF\">he</span> <span style=\"background-color: #FEFEFF\">begins</span> <span style=\"background-color: #FEFEFF\">to</span> <span style=\"background-color: #FEFEFF\">become</span> <span style=\"background-color: #FEFEFF\">addicted</span> <span style=\"background-color: #FEFEFF\">and</span> <span style=\"background-color: #FEFEFF\">almost</span> <span style=\"background-color: #B0B0FF\">forget</span> <span style=\"background-color: #FEFEFF\">about</span> <span style=\"background-color: #FEFEFF\">alice</span> <span style=\"background-color: #FEFEFF\">when</span> <span style=\"background-color: #FEFEFF\">he</span> <span style=\"background-color: #BCBCFF\">realizes</span> <span style=\"background-color: #CACAFF\">this</span> <span style=\"background-color: #F0F0FF\">it</span> <span style=\"background-color: #FEFEFF\">scares</span> <span style=\"background-color: #FEFEFF\">him</span></p>"
      ]
     },
     "metadata": {},
     "output_type": "display_data"
    },
    {
     "data": {
      "text/html": [
       "<p style=\"font-size:14px;\"><span style=\"background-color: #ACACFF\">Sent #8 | </span> <span style=\"background-color: #FFFEFE\">i</span> <span style=\"background-color: #FFFEFE\">t</span> <span style=\"background-color: #FFFEFE\">heard</span> <span style=\"background-color: #FFFEFE\">anything</span> <span style=\"background-color: #FFFEFE\">about</span> <span style=\"background-color: #FFFEFE\">this</span> <span style=\"background-color: #FFFEFE\">film</span> <span style=\"background-color: #FFFEFE\">in</span> <span style=\"background-color: #FFFEFE\">advance</span> <span style=\"background-color: #FFFEFE\">but</span> <span style=\"background-color: #FEFEFF\">i</span> <span style=\"background-color: #3C3CFF\">enjoyed</span> <span style=\"background-color: #FEFEFF\">it</span></p>"
      ]
     },
     "metadata": {},
     "output_type": "display_data"
    },
    {
     "data": {
      "text/html": [
       "<p style=\"font-size:14px;\"><span style=\"background-color: #FEFEFF\">Sent #9 | </span> <span style=\"background-color: #FEFEFF\">it</span> <span style=\"background-color: #FEFEFF\">s</span> <span style=\"background-color: #FFFEFE\">not</span> <span style=\"background-color: #FEFEFF\">extremely</span> <span style=\"background-color: #FEFEFF\">well</span> <span style=\"background-color: #FEFEFF\">made</span> <span style=\"background-color: #FEFEFF\">and</span> <span style=\"background-color: #FAFAFF\">definitely</span> <span style=\"background-color: #FEFEFF\">has</span> <span style=\"background-color: #FEFEFF\">that</span> <span style=\"background-color: #FFFEFE\">purposefully</span> <span style=\"background-color: #FFFEFE\">low</span> <span style=\"background-color: #FFFEFE\">budget</span> <span style=\"background-color: #FEFEFF\">indie</span> <span style=\"background-color: #FEFEFF\">feel</span> <span style=\"background-color: #FEFEFF\">to</span> <span style=\"background-color: #FEFEFF\">it</span> <span style=\"background-color: #FEFEFF\">but</span> <span style=\"background-color: #FEFEFF\">it</span> <span style=\"background-color: #FEFEFF\">s</span> <span style=\"background-color: #FEFEFF\">a</span> <span style=\"background-color: #4444FF\">lot</span> <span style=\"background-color: #F2F2FF\">better</span> <span style=\"background-color: #FEFEFF\">than</span> <span style=\"background-color: #FEFEFF\">most</span> <span style=\"background-color: #FEFEFF\">romantic</span> <span style=\"background-color: #FEFEFF\">comedies</span> <span style=\"background-color: #FEFEFF\">out</span> <span style=\"background-color: #FEFEFF\">there</span> <span style=\"background-color: #FEFEFF\">in</span> <span style=\"background-color: #FEFEFF\">the</span> <span style=\"background-color: #FFFEFE\">mainstream</span> <span style=\"background-color: #FEFEFF\">today</span></p>"
      ]
     },
     "metadata": {},
     "output_type": "display_data"
    },
    {
     "data": {
      "text/html": [
       "<p style=\"font-size:14px;\"><span style=\"background-color: #FEFEFF\">Sent #10 | </span> <span style=\"background-color: #5E5EFF\">check</span> <span style=\"background-color: #FEFEFF\">it</span> <span style=\"background-color: #FEFEFF\">out</span> <span style=\"background-color: #FEFEFF\">if</span> <span style=\"background-color: #BEBEFF\">you</span> <span style=\"background-color: #FEFEFF\">get</span> <span style=\"background-color: #FEFEFF\">a</span> <span style=\"background-color: #FEFEFF\">chance</span></p>"
      ]
     },
     "metadata": {},
     "output_type": "display_data"
    },
    {
     "name": "stdout",
     "output_type": "stream",
     "text": [
      "Raw review:\n",
      "\"Seeing Other People\" is a daring romantic comedy about a couple named Ed and Alice (Jay Mohr and Julianne Nicholson) who are engaged and plan to be wed soon. They live together but are both having doubts about their relationship. Alice realizes she's had so few sexual relationships in the past, she might just be marrying Ed because she's never felt anything else. So they agree to begin fooling around with other people for a while to test their own relationship.<br /><br />The movie balances a prescient question - by focusing too much on the \"What if?\" aspects of life, can it in fact do the opposite and only make you feel more constrained? When Ed begins having sex with a college girl he begins to become addicted and almost forget about Alice - when he realizes this, it scares him.<br /><br />I hadn't heard anything about this film in advance but I enjoyed it. It's not extremely well-made and definitely has that purposefully low-budget indie feel to it - but it's a lot better than most romantic comedies out there in the mainstream today.<br /><br />Check it out if you get a chance.\n"
     ]
    }
   ],
   "source": [
    "from random import randint\n",
    "\n",
    "idx = randint(1, len(dataset))\n",
    "batch = collate_docs([dataset[idx]])\n",
    "display_predict(model=model, batch=batch, itow=itow)\n",
    "    \n",
    "print('Raw review:')\n",
    "print(open(dataset._paths[idx], 'r').read())"
   ]
  },
  {
   "cell_type": "markdown",
   "metadata": {},
   "source": [
    "## Display predict on your own review"
   ]
  },
  {
   "cell_type": "code",
   "execution_count": 7,
   "metadata": {},
   "outputs": [
    {
     "name": "stdout",
     "output_type": "stream",
     "text": [
      "Predict: positive (confedence: 0.334)\n"
     ]
    },
    {
     "data": {
      "text/html": [
       "<p style=\"font-size:14px;\"><span style=\"background-color: #FEFEFF\">Sent #1 | </span> <span style=\"background-color: #B6B6FF\">i</span> <span style=\"background-color: #6666FF\">really</span> <span style=\"background-color: #FAFAFF\">like</span> <span style=\"background-color: #FEFEFF\">films</span> <span style=\"background-color: #FEFEFF\">like</span> <span style=\"background-color: #FEFEFF\">this</span> <span style=\"background-color: #FEFEFF\">!</span></p>"
      ]
     },
     "metadata": {},
     "output_type": "display_data"
    },
    {
     "data": {
      "text/html": [
       "<p style=\"font-size:14px;\"><span style=\"background-color: #FEFEFF\">Sent #2 | </span> <span style=\"background-color: #FEFEFF\">i</span> <span style=\"background-color: #3C3CFF\">discover</span> <span style=\"background-color: #FEFEFF\">several</span> <span style=\"background-color: #FEFEFF\">new</span> <span style=\"background-color: #FEFEFF\">talents</span> <span style=\"background-color: #FEFEFF\">for</span> <span style=\"background-color: #FEFEFF\">myself</span></p>"
      ]
     },
     "metadata": {},
     "output_type": "display_data"
    },
    {
     "data": {
      "text/html": [
       "<p style=\"font-size:14px;\"><span style=\"background-color: #ACACFF\">Sent #3 | </span> <span style=\"background-color: #FEFEFF\">the</span> <span style=\"background-color: #FEFEFF\">sound</span> <span style=\"background-color: #FEFEFF\">was</span> <span style=\"background-color: #3C3CFF\">great</span> <span style=\"background-color: #FEFEFF\">and</span> <span style=\"background-color: #FEFEFF\">picture</span> <span style=\"background-color: #FEFEFF\">as</span> <span style=\"background-color: #FEFEFF\">well</span></p>"
      ]
     },
     "metadata": {},
     "output_type": "display_data"
    },
    {
     "data": {
      "text/html": [
       "<p style=\"font-size:14px;\"><span style=\"background-color: #FEFEFF\">Sent #4 | </span> <span style=\"background-color: #5E5EFF\">so</span> <span style=\"background-color: #C2C2FF\">i</span> <span style=\"background-color: #FEFEFF\">am</span> <span style=\"background-color: #FAFAFF\">going</span> <span style=\"background-color: #FEFEFF\">to</span> <span style=\"background-color: #FEFEFF\">see</span> <span style=\"background-color: #FEFEFF\">it</span> <span style=\"background-color: #FEFEFF\">again</span></p>"
      ]
     },
     "metadata": {},
     "output_type": "display_data"
    }
   ],
   "source": [
    "text_str = '''\n",
    "\n",
    "I really like films like this! I discover several new talents for myself. \n",
    "The sound was great and picture as well. So, I am going to see it again.\n",
    "\n",
    "'''\n",
    "\n",
    "\n",
    "text, snt_max_len, txt_len  = dataset.tokenize_plane_text(text_str)\n",
    "\n",
    "batch = collate_docs([{'txt': text, 'snt_len': snt_max_len,\n",
    "                       'txt_len': txt_len, 'label': -1}])\n",
    "batch['targets'] = None\n",
    "\n",
    "display_predict(model=model, batch=batch, itow=itow)"
   ]
  }
 ],
 "metadata": {
  "kernelspec": {
   "display_name": "Python 3",
   "language": "python",
   "name": "python3"
  },
  "language_info": {
   "codemirror_mode": {
    "name": "ipython",
    "version": 3
   },
   "file_extension": ".py",
   "mimetype": "text/x-python",
   "name": "python",
   "nbconvert_exporter": "python",
   "pygments_lexer": "ipython3",
   "version": "3.6.9"
  },
  "pycharm": {
   "stem_cell": {
    "cell_type": "raw",
    "metadata": {
     "collapsed": false
    },
    "source": []
   }
  }
 },
 "nbformat": 4,
 "nbformat_minor": 2
}
