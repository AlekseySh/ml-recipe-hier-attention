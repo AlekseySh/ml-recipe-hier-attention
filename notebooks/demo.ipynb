{
 "cells": [
  {
   "cell_type": "code",
   "execution_count": null,
   "metadata": {},
   "outputs": [],
   "source": [
    "# Download and unpack data, then delete temporary files:\n",
    "# !! bash ../download_data.sh"
   ]
  },
  {
   "cell_type": "markdown",
   "metadata": {},
   "source": [
    "# Heirarchical Attention Network for text classification"
   ]
  },
  {
   "cell_type": "code",
   "execution_count": null,
   "metadata": {
    "pycharm": {
     "name": "#%%\n"
    }
   },
   "outputs": [],
   "source": [
    "%load_ext autoreload\n",
    "%autoreload 2\n",
    "\n",
    "import sys\n",
    "sys.path.append(\"..\")\n",
    "\n",
    "from src.notebooks_utils import display_predict\n",
    "from src.dataset import get_test_dataset, collate_docs, ImdbReviewsDataset\n",
    "from src.model import HAN\n",
    "from src.const import LOG_DIR_CATALYST"
   ]
  },
  {
   "cell_type": "markdown",
   "metadata": {},
   "source": [
    "## Load pretrained model and data"
   ]
  },
  {
   "cell_type": "code",
   "execution_count": null,
   "metadata": {},
   "outputs": [],
   "source": [
    "model = HAN.from_imbd_ckpt(path_to_ckpt=LOG_DIR_CATALYST / 'checkpoints' / 'best.pth')\n",
    "\n",
    "dataset = get_test_dataset()\n",
    "itow = dict(zip(dataset.vocab.values(), dataset.vocab.keys()))"
   ]
  },
  {
   "cell_type": "markdown",
   "metadata": {},
   "source": [
    "## Display predict for reviews from test"
   ]
  },
  {
   "cell_type": "code",
   "execution_count": null,
   "metadata": {
    "scrolled": false
   },
   "outputs": [],
   "source": [
    "from random import randint\n",
    "\n",
    "idx = randint(1, len(dataset))\n",
    "batch = collate_docs([dataset[idx]])\n",
    "display_predict(model=model, batch=batch, itow=itow)\n",
    "    \n",
    "print('Raw review:')\n",
    "print(open(dataset._paths[idx], 'r').read())"
   ]
  },
  {
   "cell_type": "markdown",
   "metadata": {},
   "source": [
    "## Display predict on your own review"
   ]
  },
  {
   "cell_type": "code",
   "execution_count": null,
   "metadata": {},
   "outputs": [],
   "source": [
    "text_str = '''\n",
    "\n",
    "I really like films like that! I discover new talents for myself. \n",
    "The sound was great and picture as well. So, I think I will see it again.\n",
    "\n",
    "'''\n",
    "\n",
    "\n",
    "text, snt_max_len, txt_len  = dataset.tokenize_plane_text(text_str)\n",
    "\n",
    "batch = collate_docs([{'txt': text, 'snt_len': snt_max_len,\n",
    "                       'txt_len': txt_len, 'label': -1}])\n",
    "batch['targets'] = None\n",
    "\n",
    "display_predict(model=model, batch=batch, itow=itow)"
   ]
  }
 ],
 "metadata": {
  "kernelspec": {
   "display_name": "Python 3",
   "language": "python",
   "name": "python3"
  },
  "language_info": {
   "codemirror_mode": {
    "name": "ipython",
    "version": 3
   },
   "file_extension": ".py",
   "mimetype": "text/x-python",
   "name": "python",
   "nbconvert_exporter": "python",
   "pygments_lexer": "ipython3",
   "version": "3.6.8"
  },
  "pycharm": {
   "stem_cell": {
    "cell_type": "raw",
    "metadata": {
     "collapsed": false
    },
    "source": []
   }
  }
 },
 "nbformat": 4,
 "nbformat_minor": 2
}
