{
 "cells": [
  {
   "cell_type": "code",
   "execution_count": null,
   "metadata": {},
   "outputs": [],
   "source": [
    "# Download and unpack data, then delete temporary files:\n",
    "\n",
    "!! [ ! -f ../data/imdb_and_vecros.zip ] && wget http://data.neu.ro/imdb_and_vecros.zip -O ../data/imdb_and_vecros.zip\n",
    "!! [ ! -d ../data/coco ] && unzip ../data/imdb_and_vecros.zip -d ../data\n",
    "!! rm -rf ../data/imdb_and_vecros.zip ../data/__MACOSX"
   ]
  },
  {
   "cell_type": "markdown",
   "metadata": {},
   "source": [
    "# Heirarchical Attention Network for text classification"
   ]
  },
  {
   "cell_type": "code",
   "execution_count": 1,
   "metadata": {
    "pycharm": {
     "name": "#%%\n"
    }
   },
   "outputs": [],
   "source": [
    "%load_ext autoreload\n",
    "%autoreload 2\n",
    "\n",
    "import sys\n",
    "sys.path.append(\"..\")\n",
    "\n",
    "from src.notebooks_utils import display_predict\n",
    "from src.dataset import get_test_dataset, collate_docs, ImdbReviewsDataset\n",
    "from src.model import HAN\n",
    "from src.const import LOG_DIR"
   ]
  },
  {
   "cell_type": "markdown",
   "metadata": {},
   "source": [
    "## Load pretrained model and data"
   ]
  },
  {
   "cell_type": "code",
   "execution_count": 2,
   "metadata": {},
   "outputs": [
    {
     "name": "stdout",
     "output_type": "stream",
     "text": [
      "Model was loaded from ../data/logs/best.ckpt.\n"
     ]
    },
    {
     "name": "stderr",
     "output_type": "stream",
     "text": [
      "  0%|          | 77/25000 [00:00<00:32, 767.39it/s]"
     ]
    },
    {
     "name": "stdout",
     "output_type": "stream",
     "text": [
      "Dataset loading from ../data/aclImdb/test.\n"
     ]
    },
    {
     "name": "stderr",
     "output_type": "stream",
     "text": [
      "100%|██████████| 25000/25000 [00:32<00:00, 758.47it/s]\n"
     ]
    }
   ],
   "source": [
    "model = HAN.from_imbd_ckpt(path_to_ckpt=LOG_DIR / 'best.ckpt')\n",
    "\n",
    "dataset = get_test_dataset()\n",
    "itow = dict(zip(dataset.vocab.values(), dataset.vocab.keys()))"
   ]
  },
  {
   "cell_type": "markdown",
   "metadata": {},
   "source": [
    "## Display predict for reviews from test"
   ]
  },
  {
   "cell_type": "code",
   "execution_count": 16,
   "metadata": {
    "scrolled": false
   },
   "outputs": [
    {
     "name": "stdout",
     "output_type": "stream",
     "text": [
      "Predict: negative (confedence: 0.014)\n",
      "Ground truth: negative.\n"
     ]
    },
    {
     "data": {
      "text/html": [
       "<p style=\"font-size:14px;\"><span style=\"background-color: #FFE6E6\">Sent 1 | </span> <span style=\"background-color: #FFFEFE\">i</span> <span style=\"background-color: #FFE8E8\">loved</span> <span style=\"background-color: #FFFEFE\">the</span> <span style=\"background-color: #FFFEFE\">first</span> <span style=\"background-color: #FFFEFE\">minutes</span> <span style=\"background-color: #FFFEFE\">and</span> <span style=\"background-color: #FFFEFE\">i</span> <span style=\"background-color: #FFA0A0\">loved</span> <span style=\"background-color: #FFFEFE\">some</span> <span style=\"background-color: #FFFEFE\">of</span> <span style=\"background-color: #FFFEFE\">the</span> <span style=\"background-color: #FFFEFE\">dialogue</span> <span style=\"background-color: #FFFEFE\">in</span> <span style=\"background-color: #FFFEFE\">the</span> <span style=\"background-color: #FFFEFE\">tribunal</span> <span style=\"background-color: #FFFEFE\">which</span> <span style=\"background-color: #FFFEFE\">proved</span> <span style=\"background-color: #FFFEFE\">to</span> <span style=\"background-color: #FFFEFE\">be</span> <span style=\"background-color: #FFFEFE\">the</span> <span style=\"background-color: #FFFEFE\">best</span> <span style=\"background-color: #FFFEFE\">showcase</span> <span style=\"background-color: #FFFEFE\">for</span> <span style=\"background-color: #FFFEFE\">the</span> <span style=\"background-color: #FFFEFE\">director</span> <span style=\"background-color: #FFFEFE\">s</span> <span style=\"background-color: #FFFEFE\">ahead</span> <span style=\"background-color: #FFFEFE\">of</span> <span style=\"background-color: #FFFEFE\">its</span> <span style=\"background-color: #FFFEFE\">time</span> <span style=\"background-color: #FFFEFE\">method</span> <span style=\"background-color: #FFFEFE\">acting</span> <span style=\"background-color: #FFFEFE\">technique</span> <span style=\"background-color: #FFFEFE\">but</span> <span style=\"background-color: #FFFEFE\">this</span> <span style=\"background-color: #FFFEFE\">movie</span> <span style=\"background-color: #FFFEFE\">ultimately</span> <span style=\"background-color: #FFFEFE\">disappoints</span></p>"
      ]
     },
     "metadata": {},
     "output_type": "display_data"
    },
    {
     "data": {
      "text/html": [
       "<p style=\"font-size:14px;\"><span style=\"background-color: #FFDADA\">Sent 2 | </span> <span style=\"background-color: #FFFEFE\">even</span> <span style=\"background-color: #FFFEFE\">when</span> <span style=\"background-color: #FFFEFE\">viewed</span> <span style=\"background-color: #FFFEFE\">purely</span> <span style=\"background-color: #FFBEBE\">as</span> <span style=\"background-color: #FFE8E8\">a</span> <span style=\"background-color: #FFFCFC\">metaphor</span> <span style=\"background-color: #FFFEFE\">of</span> <span style=\"background-color: #FFFEFE\">the</span> <span style=\"background-color: #FFFEFE\">oppressed</span> <span style=\"background-color: #FFFEFE\">dynamics</span> <span style=\"background-color: #FFFEFE\">that</span> <span style=\"background-color: #FFFCFC\">were</span> <span style=\"background-color: #FFFEFE\">and</span> <span style=\"background-color: #FFFCFC\">are</span> <span style=\"background-color: #FFFEFE\">prevalent</span> <span style=\"background-color: #FFFEFE\">in</span> <span style=\"background-color: #FFFEFE\">the</span> <span style=\"background-color: #FFFEFE\">relationship</span> <span style=\"background-color: #FFFEFE\">between</span> <span style=\"background-color: #FFFEFE\">the</span> <span style=\"background-color: #FFFEFE\">us</span> <span style=\"background-color: #FFFEFE\">government</span> <span style=\"background-color: #FFFEFE\">and</span> <span style=\"background-color: #FFFEFE\">its</span> <span style=\"background-color: #FFFEFE\">more</span> <span style=\"background-color: #FFFEFE\">disobedient</span> <span style=\"background-color: #FFFEFE\">citizens</span> <span style=\"background-color: #FFFEFE\">it</span> <span style=\"background-color: #FFFEFE\">still</span> <span style=\"background-color: #FFFEFE\">lacks</span> <span style=\"background-color: #FFFAFA\">punch</span> <span style=\"background-color: #FFFCFC\">and</span> <span style=\"background-color: #FFFEFE\">believability</span> <span style=\"background-color: #FFFEFE\">and</span> <span style=\"background-color: #FFFEFE\">ultimately</span> <span style=\"background-color: #FFFEFE\">left</span> <span style=\"background-color: #FFF6F6\">me</span> <span style=\"background-color: #FFFCFC\">looking</span> <span style=\"background-color: #FFFEFE\">at</span> <span style=\"background-color: #FFFEFE\">my</span> <span style=\"background-color: #FFFEFE\">watch</span> <span style=\"background-color: #FFFEFE\">hoping</span> <span style=\"background-color: #FFFEFE\">the</span> <span style=\"background-color: #FFFEFE\">obvious</span> <span style=\"background-color: #FFFEFE\">ending</span> <span style=\"background-color: #FFFEFE\">would</span> <span style=\"background-color: #FFFEFE\">happen</span> <span style=\"background-color: #FFFEFE\">already</span></p>"
      ]
     },
     "metadata": {},
     "output_type": "display_data"
    },
    {
     "data": {
      "text/html": [
       "<p style=\"font-size:14px;\"><span style=\"background-color: #FFF0F0\">Sent 3 | </span> <span style=\"background-color: #FFFEFE\">and</span> <span style=\"background-color: #FFFEFE\">for</span> <span style=\"background-color: #FFFEFE\">the</span> <span style=\"background-color: #FFFEFE\">record</span> <span style=\"background-color: #FFFEFE\">despite</span> <span style=\"background-color: #FFFEFE\">rampant</span> <span style=\"background-color: #FFFEFE\">rumors</span> <span style=\"background-color: #FFFEFE\">to</span> <span style=\"background-color: #FFFEFE\">the</span> <span style=\"background-color: #FFFEFE\">contrary</span> <span style=\"background-color: #FFFEFE\">this</span> <span style=\"background-color: #FFFCFC\">movie</span> <span style=\"background-color: #FFFEFE\">has</span> <span style=\"background-color: #FFCCCC\">never</span> <span style=\"background-color: #FFBEBE\">been</span> <span style=\"background-color: #FFFEFE\">banned</span> <span style=\"background-color: #FFFEFE\">in</span> <span style=\"background-color: #FFFEFE\">the</span> <span style=\"background-color: #FFFEFE\">us</span> <span style=\"background-color: #FFFEFE\">i</span> <span style=\"background-color: #FFFEFE\">can</span> <span style=\"background-color: #FFFEFE\">t</span> <span style=\"background-color: #FFFEFE\">comment</span> <span style=\"background-color: #FFFEFE\">on</span> <span style=\"background-color: #FFFEFE\">the</span> <span style=\"background-color: #FFFEFE\">rumors</span> <span style=\"background-color: #FFFEFE\">of</span> <span style=\"background-color: #FFFEFE\">uk</span> <span style=\"background-color: #FFFEFE\">censorship</span> <span style=\"background-color: #FFFEFE\">but</span> <span style=\"background-color: #FFFEFE\">i</span> <span style=\"background-color: #FFFEFE\">m</span> <span style=\"background-color: #FFFEFE\">suspicious</span></p>"
      ]
     },
     "metadata": {},
     "output_type": "display_data"
    },
    {
     "data": {
      "text/html": [
       "<p style=\"font-size:14px;\"><span style=\"background-color: #FFE2E2\">Sent 4 | </span> <span style=\"background-color: #FFFCFC\">hollywood</span> <span style=\"background-color: #FFFCFC\">refused</span> <span style=\"background-color: #FFF2F2\">to</span> <span style=\"background-color: #FFFEFE\">distribute</span> <span style=\"background-color: #FFFEFE\">it</span> <span style=\"background-color: #FFFEFE\">after</span> <span style=\"background-color: #FFF4F4\">its</span> <span style=\"background-color: #FFFEFE\">initial</span> <span style=\"background-color: #FFFEFE\">film</span> <span style=\"background-color: #FFFCFC\">festival</span> <span style=\"background-color: #FFCECE\">showing</span> <span style=\"background-color: #FFFCFC\">and</span> <span style=\"background-color: #FFFAFA\">i</span> <span style=\"background-color: #FFFEFE\">am</span> <span style=\"background-color: #FFFEFE\">more</span> <span style=\"background-color: #FFFEFE\">than</span> <span style=\"background-color: #FFFEFE\">willing</span> <span style=\"background-color: #FFFEFE\">to</span> <span style=\"background-color: #FFFEFE\">believe</span> <span style=\"background-color: #FFFEFE\">the</span> <span style=\"background-color: #FFFEFE\">nixon</span> <span style=\"background-color: #FFFEFE\">government</span> <span style=\"background-color: #FFFEFE\">had</span> <span style=\"background-color: #FFFEFE\">some</span> <span style=\"background-color: #FFFEFE\">influence</span> <span style=\"background-color: #FFFEFE\">on</span> <span style=\"background-color: #FFFEFE\">this</span> <span style=\"background-color: #FFFEFE\">decision</span> <span style=\"background-color: #FFFEFE\">however</span> <span style=\"background-color: #FFFEFE\">the</span> <span style=\"background-color: #FFFEFE\">fact</span> <span style=\"background-color: #FFFEFE\">that</span> <span style=\"background-color: #FFFEFE\">it</span> <span style=\"background-color: #FFFEFE\">never</span> <span style=\"background-color: #FFFEFE\">appeared</span> <span style=\"background-color: #FFFEFE\">on</span> <span style=\"background-color: #FFFEFE\">american</span> <span style=\"background-color: #FFFEFE\">television</span> <span style=\"background-color: #FFFEFE\">is</span> <span style=\"background-color: #FFFEFE\">merely</span> <span style=\"background-color: #FFFEFE\">a</span> <span style=\"background-color: #FFFEFE\">reflection</span> <span style=\"background-color: #FFFEFE\">of</span> <span style=\"background-color: #FFFEFE\">this</span> <span style=\"background-color: #FFFEFE\">medium</span> <span style=\"background-color: #FFFEFE\">s</span> <span style=\"background-color: #FFFEFE\">rather</span> <span style=\"background-color: #FFEAEA\">careful</span> <span style=\"background-color: #FFFEFE\">and</span> <span style=\"background-color: #FFFEFE\">advertising</span> <span style=\"background-color: #FFFEFE\">driven</span> <span style=\"background-color: #FFFEFE\">fashion</span> <span style=\"background-color: #FFFEFE\">of</span> <span style=\"background-color: #FFFEFE\">doing</span> <span style=\"background-color: #FFFEFE\">business</span></p>"
      ]
     },
     "metadata": {},
     "output_type": "display_data"
    },
    {
     "data": {
      "text/html": [
       "<p style=\"font-size:14px;\"><span style=\"background-color: #FFECEC\">Sent 5 | </span> <span style=\"background-color: #FFFAFA\">as</span> <span style=\"background-color: #FFFEFE\">for</span> <span style=\"background-color: #FFFEFE\">the</span> <span style=\"background-color: #FFFEFE\">present</span> <span style=\"background-color: #FFFAFA\">you</span> <span style=\"background-color: #FFFAFA\">can</span> <span style=\"background-color: #FFF6F6\">have</span> <span style=\"background-color: #FFFEFE\">your</span> <span style=\"background-color: #FFFEFE\">very</span> <span style=\"background-color: #FFF8F8\">own</span> <span style=\"background-color: #FFF0F0\">copy</span> <span style=\"background-color: #FFFEFE\">of</span> <span style=\"background-color: #FFFEFE\">the</span> <span style=\"background-color: #FFB6B6\">dvd</span> <span style=\"background-color: #FFFCFC\">delivered</span> <span style=\"background-color: #FFFEFE\">to</span> <span style=\"background-color: #FFFEFE\">your</span> <span style=\"background-color: #FFFEFE\">door</span> <span style=\"background-color: #FFFEFE\">via</span> <span style=\"background-color: #FFFEFE\">amazon</span> <span style=\"background-color: #FFFEFE\">in</span> <span style=\"background-color: #FFFEFE\">a</span> <span style=\"background-color: #FFFEFE\">few</span> <span style=\"background-color: #FFFEFE\">days</span></p>"
      ]
     },
     "metadata": {},
     "output_type": "display_data"
    },
    {
     "name": "stdout",
     "output_type": "stream",
     "text": [
      "Raw review:\n",
      "I loved the first 15 minutes, and I loved some of the dialogue in the tribunal--which proved to be the best showcase for the director's ahead-of-its-time method acting technique--but this movie ultimately disappoints. Even when viewed purely as a metaphor of the oppressor/oppressed dynamics that were and are prevalent in the relationship between the US government and its more \"disobedient\" citizens, it still lacks punch and believability, and ultimately left me looking at my watch hoping the obvious ending would happen already.<br /><br />And for the record: despite rampant rumors to the contrary, this movie has never been banned in the US (I can't comment on the rumors of UK censorship, but I'm suspicious). Hollywood refused to distribute it after its initial film festival showing, and I am more than willing to believe the Nixon government had some influence on this decision; however, the fact that it never appeared on American television is merely a reflection of this medium's rather careful and advertising-driven fashion of doing business. As for the present, you can have your very own copy of the DVD delivered to your door via Amazon in a few days.\n"
     ]
    }
   ],
   "source": [
    "from random import randint\n",
    "\n",
    "idx = randint(1, len(dataset))\n",
    "batch = collate_docs([dataset[idx]])\n",
    "display_predict(model=model, batch=batch, itow=itow)\n",
    "    \n",
    "print('Raw review:')\n",
    "print(open(dataset._paths[idx], 'r').read())"
   ]
  },
  {
   "cell_type": "markdown",
   "metadata": {},
   "source": [
    "## Display predict on your own review"
   ]
  },
  {
   "cell_type": "code",
   "execution_count": 11,
   "metadata": {},
   "outputs": [
    {
     "name": "stdout",
     "output_type": "stream",
     "text": [
      "Predict: positive (confedence: 0.816)\n"
     ]
    },
    {
     "data": {
      "text/html": [
       "<p style=\"font-size:14px;\"><span style=\"background-color: #F3F3FF\">Sent 1 | </span> <span style=\"background-color: #ECECFF\">i</span> <span style=\"background-color: #F8F8FF\">really</span> <span style=\"background-color: #AAAAFF\">like</span> <span style=\"background-color: #FCFCFF\">films</span> <span style=\"background-color: #F6F6FF\">like</span> <span style=\"background-color: #FEFEFF\">that</span> <span style=\"background-color: #FEFEFF\">!</span></p>"
      ]
     },
     "metadata": {},
     "output_type": "display_data"
    },
    {
     "data": {
      "text/html": [
       "<p style=\"font-size:14px;\"><span style=\"background-color: #F8F8FF\">Sent 2 | </span> <span style=\"background-color: #CECEFF\">i</span> <span style=\"background-color: #BABAFF\">discover</span> <span style=\"background-color: #FEFEFF\">new</span> <span style=\"background-color: #FAFAFF\">talents</span> <span style=\"background-color: #FCFCFF\">for</span> <span style=\"background-color: #FEFEFF\">myself</span></p>"
      ]
     },
     "metadata": {},
     "output_type": "display_data"
    },
    {
     "data": {
      "text/html": [
       "<p style=\"font-size:14px;\"><span style=\"background-color: #C3C3FF\">Sent 3 | </span> <span style=\"background-color: #FEFEFF\">the</span> <span style=\"background-color: #FEFEFF\">sound</span> <span style=\"background-color: #FEFEFF\">was</span> <span style=\"background-color: #9292FF\">great</span> <span style=\"background-color: #FAFAFF\">and</span> <span style=\"background-color: #FCFCFF\">picture</span> <span style=\"background-color: #FEFEFF\">as</span> <span style=\"background-color: #FEFEFF\">well</span></p>"
      ]
     },
     "metadata": {},
     "output_type": "display_data"
    },
    {
     "data": {
      "text/html": [
       "<p style=\"font-size:14px;\"><span style=\"background-color: #D0D0FF\">Sent 4 | </span> <span style=\"background-color: #FAFAFF\">so</span> <span style=\"background-color: #E3E3FF\">i</span> <span style=\"background-color: #F8F8FF\">think</span> <span style=\"background-color: #D3D3FF\">i</span> <span style=\"background-color: #ECECFF\">will</span> <span style=\"background-color: #E6E6FF\">see</span> <span style=\"background-color: #FEFEFF\">it</span> <span style=\"background-color: #FEFEFF\">again</span></p>"
      ]
     },
     "metadata": {},
     "output_type": "display_data"
    }
   ],
   "source": [
    "text_str = '''\n",
    "\n",
    "I really like films like that! I discover new talents for myself. \n",
    "The sound was great and picture as well. So, I think I will see it again.\n",
    "\n",
    "'''\n",
    "\n",
    "\n",
    "text, snt_max_len, txt_len  = dataset.tokenize_plane_text(text_str)\n",
    "\n",
    "batch = collate_docs([{'txt': text, 'snt_len': snt_max_len,\n",
    "                       'txt_len': txt_len, 'label': -1}])\n",
    "batch['targets'] = None\n",
    "\n",
    "display_predict(model=model, batch=batch, itow=itow)"
   ]
  }
 ],
 "metadata": {
  "kernelspec": {
   "display_name": "Python 3",
   "language": "python",
   "name": "python3"
  },
  "language_info": {
   "codemirror_mode": {
    "name": "ipython",
    "version": 3
   },
   "file_extension": ".py",
   "mimetype": "text/x-python",
   "name": "python",
   "nbconvert_exporter": "python",
   "pygments_lexer": "ipython3",
   "version": "3.7.3"
  },
  "pycharm": {
   "stem_cell": {
    "cell_type": "raw",
    "metadata": {
     "collapsed": false
    },
    "source": []
   }
  }
 },
 "nbformat": 4,
 "nbformat_minor": 2
}
